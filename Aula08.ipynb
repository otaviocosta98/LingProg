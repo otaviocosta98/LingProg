{
 "cells": [
  {
   "cell_type": "code",
   "execution_count": 2,
   "metadata": {},
   "outputs": [],
   "source": [
    "def maybe(fnc):\n",
    "    \n",
    "    def inner(*args):\n",
    "        \n",
    "        for a in args:\n",
    "            if isinstance(a, Exception):\n",
    "                return a\n",
    "        try:\n",
    "            return fnc(*args)\n",
    "        except Exception as e:\n",
    "            return e\n",
    "    return inner"
   ]
  },
  {
   "cell_type": "markdown",
   "metadata": {},
   "source": [
    "1 Defina a função soma_nat que recebe como argumento um número natural  n e devolve a soma de todos os números naturais até  n.\n",
    "Ex: soma_nat(5) = 15"
   ]
  },
  {
   "cell_type": "code",
   "execution_count": 7,
   "metadata": {},
   "outputs": [
    {
     "name": "stdout",
     "output_type": "stream",
     "text": [
      "15\n"
     ]
    }
   ],
   "source": [
    "soma_nat = maybe(lambda n: n + soma_nat(n - 1) if n > 0 else 0)\n",
    "print(soma(5))"
   ]
  },
  {
   "cell_type": "code",
   "execution_count": 3,
   "metadata": {
    "collapsed": true
   },
   "outputs": [],
   "source": [
    "assert(soma_nat(5)==15)"
   ]
  },
  {
   "cell_type": "markdown",
   "metadata": {},
   "source": [
    "3- Defina a função prim_alg que recebe como argumento um número natural e devolve o primeiro algarismo (o mais significativo) na representação decimal de  n."
   ]
  },
  {
   "cell_type": "code",
   "execution_count": 2,
   "metadata": {},
   "outputs": [
    {
     "name": "stdout",
     "output_type": "stream",
     "text": [
      "5\n",
      "TESTES\n"
     ]
    }
   ],
   "source": [
    "def prim_alg(n):\n",
    "    if isinstance(n, int) and n >= 0:\n",
    "        ext = str(n)\n",
    "        return ext[0:1]\n",
    "    else:\n",
    "        raise Exception('Digite um número natural!')\n",
    "\n",
    "print(prim_alg(56789))\n",
    "##prim_alg(\"56789\")\n",
    "print('TESTES')\n",
    "assert(prim_alg(56789) == '5')"
   ]
  },
  {
   "cell_type": "code",
   "execution_count": 3,
   "metadata": {},
   "outputs": [
    {
     "name": "stdout",
     "output_type": "stream",
     "text": [
      "5\n",
      "Nothing\n",
      "Nothing\n",
      "TESTES\n"
     ]
    }
   ],
   "source": [
    "class Just:\n",
    "    \n",
    "    def __init__(self,value):\n",
    "        \n",
    "        self._value = value\n",
    "        \n",
    "    def bind(self,fnc):\n",
    "        \n",
    "        try:\n",
    "            return Just(fnc(self._value))\n",
    "        except:\n",
    "            return Nothing()\n",
    "        \n",
    "    def __repr__(self):\n",
    "        \n",
    "        return self._value\n",
    "    \n",
    "class Nothing:\n",
    "    \n",
    "    def bind(self,fnc):\n",
    "        \n",
    "        return Nothing()\n",
    "    \n",
    "    def __repr__(self):\n",
    "        \n",
    "        return 'Nothing'\n",
    "    \n",
    "print(Just(56879).bind(prim_alg))\n",
    "print(Nothing().bind(prim_alg))\n",
    "print(Just('a').bind(prim_alg))\n",
    "print('TESTES')\n",
    "assert(prim_alg(56789) == '5')"
   ]
  },
  {
   "cell_type": "markdown",
   "metadata": {},
   "source": [
    "4 Defina a função prod_lista que recebe como argumento uma lista de inteiros e devolve o produto dos seus elementos."
   ]
  },
  {
   "cell_type": "code",
   "execution_count": 3,
   "metadata": {},
   "outputs": [
    {
     "name": "stdout",
     "output_type": "stream",
     "text": [
      "Insira números na lista e digite uma letra para parar\n",
      "Insira um número na lista: 10\n",
      "Insira um número na lista: 20\n",
      "Insira um número na lista: 30\n",
      "Insira um número na lista: 40\n",
      "Insira um número na lista: 50\n",
      "Insira um número na lista: b\n",
      "Lista = [10.0, 20.0, 30.0, 40.0, 50.0] \n",
      "Produto dos elementos = 12000000.0\n"
     ]
    }
   ],
   "source": [
    "monta = lambda: float(input('Insira um número na lista: '))\n",
    "produto_lista = maybe(lambda lista:lista[len(lista)-1] * produto_lista(lista[:-1]) if len(lista) > 0 else 1)  \n",
    "main = maybe(lambda funcao: funcao())\n",
    "\n",
    "def monta_lista():\n",
    "    lista = []\n",
    "    print('Insira números na lista e digite uma letra para parar')\n",
    "    while True:\n",
    "        try:\n",
    "            lista.append(monta())\n",
    "        except (ValueError, Exception):\n",
    "            if len(lista) > 0:\n",
    "                produtos = produto_lista(lista)\n",
    "            else:\n",
    "                produtos = 0\n",
    "            print(f'Lista = {lista} \\nProduto dos elementos = {produtos}')\n",
    "            break\n",
    "    \n",
    "main(monta_lista)"
   ]
  },
  {
   "cell_type": "code",
   "execution_count": 5,
   "metadata": {
    "collapsed": true
   },
   "outputs": [],
   "source": [
    "assert(produto_lista([1,2,3,4,5,6])==720)"
   ]
  },
  {
   "cell_type": "markdown",
   "metadata": {},
   "source": [
    "5 Defina a função contem_parQ que recebe como argumento uma lista de números inteiros  w e devolve True se w contém um número par e False em caso contrário."
   ]
  },
  {
   "cell_type": "code",
   "execution_count": 3,
   "metadata": {},
   "outputs": [
    {
     "name": "stdout",
     "output_type": "stream",
     "text": [
      "Teste\n",
      "True\n"
     ]
    }
   ],
   "source": [
    "contem_parQ = maybe(lambda w: True if w[0] % 2 == 0 else (contem_parQ(w + 1) if len(w) > 1 else False))\n",
    "\n",
    "print('Teste')\n",
    "assert contem_parQ([2,3,1,2,3,4]), 'Lista não tem números'\n",
    "print(contem_parQ([2,3,1,2,3,4]))"
   ]
  },
  {
   "cell_type": "code",
   "execution_count": 7,
   "metadata": {
    "collapsed": true
   },
   "outputs": [],
   "source": [
    "assert(par([2,3,1,2,3,4])==True)"
   ]
  },
  {
   "cell_type": "markdown",
   "metadata": {},
   "source": [
    "7 Defina a função pertenceQ que recebe como argumentos uma lista de números inteiros  w  e um número inteiro  n  e devolve True se  n  ocorre em  w  e False em caso contrário."
   ]
  },
  {
   "cell_type": "code",
   "execution_count": 5,
   "metadata": {},
   "outputs": [
    {
     "name": "stdout",
     "output_type": "stream",
     "text": [
      "Insira números na lista e digite uma letra para parar\n",
      "Insira um número inteiro na lista: 10\n",
      "Insira um número inteiro na lista: 20\n",
      "Insira um número inteiro na lista: 30\n",
      "Insira um número inteiro na lista: 40\n",
      "Insira um número inteiro na lista: 50\n",
      "Insira um número inteiro na lista: f\n",
      "Lista = [10, 20, 30, 40, 50]\n",
      "Digite um número inteiro: 30\n",
      "True\n"
     ]
    }
   ],
   "source": [
    "monta = lambda: int(input('Insira um número inteiro na lista: '))\n",
    "inteiro = maybe(lambda: int(input('Digite um número inteiro: ')))\n",
    "pertence = maybe(lambda lista, numero: True if len(lista)> 0 and (numero in lista or pertence(lista[:-1],numero)) else False)\n",
    "main = maybe(lambda funcao: funcao())\n",
    "\n",
    "def monta_lista():\n",
    "    lista = []\n",
    "    print('Insira números na lista e digite uma letra para parar')\n",
    "    while True:\n",
    "        try:\n",
    "            lista.append(monta())\n",
    "        except (ValueError, Exception):\n",
    "            print(f'Lista = {lista}')\n",
    "            numero =  inteiro()\n",
    "            resultado = pertence(lista, numero)\n",
    "            print(resultado)\n",
    "            break\n",
    "\n",
    "main(monta_lista)"
   ]
  },
  {
   "cell_type": "code",
   "execution_count": 9,
   "metadata": {
    "collapsed": true
   },
   "outputs": [],
   "source": [
    "assert(pertence([1,2,3],1)==True)"
   ]
  },
  {
   "cell_type": "markdown",
   "metadata": {},
   "source": [
    "10 Defina a função inverteLista que recebe como argumento uma lista  w e devolve a mesma lista mas invertida."
   ]
  },
  {
   "cell_type": "code",
   "execution_count": 6,
   "metadata": {},
   "outputs": [
    {
     "name": "stdout",
     "output_type": "stream",
     "text": [
      "Insira números na lista e digite uma letra para parar\n",
      "Insira um número inteiro na lista: 10\n",
      "Insira um número inteiro na lista: 20\n",
      "Insira um número inteiro na lista: 30\n",
      "Insira um número inteiro na lista: 40\n",
      "Insira um número inteiro na lista: 50\n",
      "Insira um número inteiro na lista: f\n",
      "Lista = [10, 20, 30, 40, 50]\n",
      "Lista Invertida = [50, 40, 30, 20, 10]\n"
     ]
    }
   ],
   "source": [
    "monta = lambda: int(input('Insira um número inteiro na lista: '))\n",
    "## recursivo\n",
    "inverte = maybe(lambda lista: (inverte(lista[1:]) + lista[:1] if lista else []))\n",
    "main = maybe(lambda funcao: funcao())\n",
    "\n",
    "def monta_lista():\n",
    "    lista = []\n",
    "    n_lista = []\n",
    "    print('Insira números na lista e digite uma letra para parar')\n",
    "    while True:\n",
    "        try:\n",
    "            lista.append(monta())\n",
    "        except (ValueError, Exception):\n",
    "            print(f'Lista = {lista}')\n",
    "            n_lista = inverte(lista)\n",
    "            print(f'Lista Invertida = {n_lista}')\n",
    "            break\n",
    "main(monta_lista)"
   ]
  },
  {
   "cell_type": "code",
   "execution_count": 11,
   "metadata": {
    "collapsed": true
   },
   "outputs": [],
   "source": [
    "assert(inverte([1,2,3,4,5])==[5,4,3,2,1])"
   ]
  },
  {
   "cell_type": "code",
   "execution_count": null,
   "metadata": {
    "collapsed": true
   },
   "outputs": [],
   "source": []
  }
 ],
 "metadata": {
  "kernelspec": {
   "display_name": "Python 3",
   "language": "python",
   "name": "python3"
  },
  "language_info": {
   "codemirror_mode": {
    "name": "ipython",
    "version": 3
   },
   "file_extension": ".py",
   "mimetype": "text/x-python",
   "name": "python",
   "nbconvert_exporter": "python",
   "pygments_lexer": "ipython3",
   "version": "3.6.4"
  }
 },
 "nbformat": 4,
 "nbformat_minor": 2
}
